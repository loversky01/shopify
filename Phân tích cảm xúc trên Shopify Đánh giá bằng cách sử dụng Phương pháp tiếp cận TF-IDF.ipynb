{
  "nbformat": 4,
  "nbformat_minor": 0,
  "metadata": {
    "colab": {
      "name": "Xử lý và gán nhãn dữ liệu.ipynb",
      "provenance": [],
      "authorship_tag": "ABX9TyOM0y5M62MqVxtAKnL/SKNm",
      "include_colab_link": true
    },
    "kernelspec": {
      "name": "python3",
      "display_name": "Python 3"
    },
    "language_info": {
      "name": "python"
    }
  },
  "cells": [
    {
      "cell_type": "markdown",
      "metadata": {
        "id": "view-in-github",
        "colab_type": "text"
      },
      "source": [
        "<a href=\"https://colab.research.google.com/github/loversky01/shopify/blob/master/Ph%C3%A2n%20t%C3%ADch%20c%E1%BA%A3m%20x%C3%BAc%20tr%C3%AAn%20Shopify%20%C4%90%C3%A1nh%20gi%C3%A1%20b%E1%BA%B1ng%20c%C3%A1ch%20s%E1%BB%AD%20d%E1%BB%A5ng%20Ph%C6%B0%C6%A1ng%20ph%C3%A1p%20ti%E1%BA%BFp%20c%E1%BA%ADn%20TF-IDF.ipynb\" target=\"_parent\"><img src=\"https://colab.research.google.com/assets/colab-badge.svg\" alt=\"Open In Colab\"/></a>"
      ]
    },
    {
      "cell_type": "code",
      "execution_count": 2,
      "metadata": {
        "id": "W_nmjzepdtur"
      },
      "outputs": [],
      "source": [
        "#Lover Sky - Minh Vương "
      ]
    },
    {
      "cell_type": "code",
      "source": [
        "import pandas as pd\n",
        "import numpy as np\n",
        "import nltk\n",
        "import re"
      ],
      "metadata": {
        "id": "fcZvok1ud3jj"
      },
      "execution_count": 3,
      "outputs": []
    },
    {
      "cell_type": "code",
      "source": [
        "#Đọc tập dữ liệu bằng cách sử dụng pandas"
      ],
      "metadata": {
        "id": "bX0bxsFyeXJe"
      },
      "execution_count": null,
      "outputs": []
    },
    {
      "cell_type": "code",
      "source": [
        "df=pd.read_csv('reviews.csv')"
      ],
      "metadata": {
        "id": "s_Zql3R7kDxL"
      },
      "execution_count": 5,
      "outputs": []
    },
    {
      "cell_type": "code",
      "source": [
        "#Xem trước tập dữ liệu"
      ],
      "metadata": {
        "id": "VcxxzPYbeZ4a"
      },
      "execution_count": null,
      "outputs": []
    },
    {
      "cell_type": "code",
      "source": [
        "df.head(3)"
      ],
      "metadata": {
        "colab": {
          "base_uri": "https://localhost:8080/",
          "height": 282
        },
        "id": "7l9JRETQejBF",
        "outputId": "a2cf523b-7a65-4dd8-ea21-a6416bb6447e"
      },
      "execution_count": 6,
      "outputs": [
        {
          "output_type": "execute_result",
          "data": {
            "text/html": [
              "<div>\n",
              "<style scoped>\n",
              "    .dataframe tbody tr th:only-of-type {\n",
              "        vertical-align: middle;\n",
              "    }\n",
              "\n",
              "    .dataframe tbody tr th {\n",
              "        vertical-align: top;\n",
              "    }\n",
              "\n",
              "    .dataframe thead th {\n",
              "        text-align: right;\n",
              "    }\n",
              "</style>\n",
              "<table border=\"1\" class=\"dataframe\">\n",
              "  <thead>\n",
              "    <tr style=\"text-align: right;\">\n",
              "      <th></th>\n",
              "      <th>app_id</th>\n",
              "      <th>author</th>\n",
              "      <th>rating</th>\n",
              "      <th>posted_at</th>\n",
              "      <th>Sentence</th>\n",
              "      <th>helpful_count</th>\n",
              "      <th>developer_reply</th>\n",
              "      <th>developer_reply_posted_at</th>\n",
              "    </tr>\n",
              "  </thead>\n",
              "  <tbody>\n",
              "    <tr>\n",
              "      <th>0</th>\n",
              "      <td>b1da53a4-0474-4700-9620-bf386bc033fb</td>\n",
              "      <td>Consuela</td>\n",
              "      <td>5</td>\n",
              "      <td>6-Aug-20</td>\n",
              "      <td>Great and super fast customer service! Highly ...</td>\n",
              "      <td>0</td>\n",
              "      <td>NaN</td>\n",
              "      <td>NaN</td>\n",
              "    </tr>\n",
              "    <tr>\n",
              "      <th>1</th>\n",
              "      <td>b1da53a4-0474-4700-9620-bf386bc033fb</td>\n",
              "      <td>L'Atelier Global</td>\n",
              "      <td>5</td>\n",
              "      <td>4-Aug-20</td>\n",
              "      <td>Still setting up my store, and after initially...</td>\n",
              "      <td>0</td>\n",
              "      <td>NaN</td>\n",
              "      <td>NaN</td>\n",
              "    </tr>\n",
              "    <tr>\n",
              "      <th>2</th>\n",
              "      <td>b1da53a4-0474-4700-9620-bf386bc033fb</td>\n",
              "      <td>city'super E-Shop</td>\n",
              "      <td>5</td>\n",
              "      <td>4-Aug-20</td>\n",
              "      <td>This is an excellent search app, which they ha...</td>\n",
              "      <td>0</td>\n",
              "      <td>NaN</td>\n",
              "      <td>NaN</td>\n",
              "    </tr>\n",
              "  </tbody>\n",
              "</table>\n",
              "</div>"
            ],
            "text/plain": [
              "                                 app_id  ... developer_reply_posted_at\n",
              "0  b1da53a4-0474-4700-9620-bf386bc033fb  ...                       NaN\n",
              "1  b1da53a4-0474-4700-9620-bf386bc033fb  ...                       NaN\n",
              "2  b1da53a4-0474-4700-9620-bf386bc033fb  ...                       NaN\n",
              "\n",
              "[3 rows x 8 columns]"
            ]
          },
          "metadata": {},
          "execution_count": 6
        }
      ]
    },
    {
      "cell_type": "code",
      "source": [
        "#Chúng ta chỉ yêu cầu các cột review_body, star_rating mô tả các bài đánh giá,\n",
        "#xếp hạng theo sao của từng bài đánh giá tương ứng."
      ],
      "metadata": {
        "id": "mB4T9qngeuWt"
      },
      "execution_count": null,
      "outputs": []
    },
    {
      "cell_type": "code",
      "source": [
        "df=df[['Sentence','rating']]"
      ],
      "metadata": {
        "id": "PWvQnvyDemRr"
      },
      "execution_count": 8,
      "outputs": []
    },
    {
      "cell_type": "code",
      "source": [
        "#Loại bỏ các giá trị Null, bị thiếu và đặt lại chỉ mục"
      ],
      "metadata": {
        "id": "NAB0oYMqe7h9"
      },
      "execution_count": null,
      "outputs": []
    },
    {
      "cell_type": "code",
      "source": [
        "df=df.dropna()\n",
        "df = df.reset_index(drop=True)\n",
        "df"
      ],
      "metadata": {
        "colab": {
          "base_uri": "https://localhost:8080/",
          "height": 424
        },
        "id": "IE1S3S4jfA57",
        "outputId": "9d96fd06-f85d-40b5-9948-45098a5abf07"
      },
      "execution_count": 9,
      "outputs": [
        {
          "output_type": "execute_result",
          "data": {
            "text/html": [
              "<div>\n",
              "<style scoped>\n",
              "    .dataframe tbody tr th:only-of-type {\n",
              "        vertical-align: middle;\n",
              "    }\n",
              "\n",
              "    .dataframe tbody tr th {\n",
              "        vertical-align: top;\n",
              "    }\n",
              "\n",
              "    .dataframe thead th {\n",
              "        text-align: right;\n",
              "    }\n",
              "</style>\n",
              "<table border=\"1\" class=\"dataframe\">\n",
              "  <thead>\n",
              "    <tr style=\"text-align: right;\">\n",
              "      <th></th>\n",
              "      <th>Sentence</th>\n",
              "      <th>rating</th>\n",
              "    </tr>\n",
              "  </thead>\n",
              "  <tbody>\n",
              "    <tr>\n",
              "      <th>0</th>\n",
              "      <td>Great and super fast customer service! Highly ...</td>\n",
              "      <td>5</td>\n",
              "    </tr>\n",
              "    <tr>\n",
              "      <th>1</th>\n",
              "      <td>Still setting up my store, and after initially...</td>\n",
              "      <td>5</td>\n",
              "    </tr>\n",
              "    <tr>\n",
              "      <th>2</th>\n",
              "      <td>This is an excellent search app, which they ha...</td>\n",
              "      <td>5</td>\n",
              "    </tr>\n",
              "    <tr>\n",
              "      <th>3</th>\n",
              "      <td>A+, great great great customer service! thanks...</td>\n",
              "      <td>5</td>\n",
              "    </tr>\n",
              "    <tr>\n",
              "      <th>4</th>\n",
              "      <td>I'm begginig to use this app, the search engin...</td>\n",
              "      <td>5</td>\n",
              "    </tr>\n",
              "    <tr>\n",
              "      <th>...</th>\n",
              "      <td>...</td>\n",
              "      <td>...</td>\n",
              "    </tr>\n",
              "    <tr>\n",
              "      <th>447111</th>\n",
              "      <td>The app is cool and simple to use which I like...</td>\n",
              "      <td>2</td>\n",
              "    </tr>\n",
              "    <tr>\n",
              "      <th>447112</th>\n",
              "      <td>Such a great thing, and great customer service...</td>\n",
              "      <td>5</td>\n",
              "    </tr>\n",
              "    <tr>\n",
              "      <th>447113</th>\n",
              "      <td>Just found Privy!  I can't wait to start recei...</td>\n",
              "      <td>5</td>\n",
              "    </tr>\n",
              "    <tr>\n",
              "      <th>447114</th>\n",
              "      <td>Wow, overnight got tons of new email signups a...</td>\n",
              "      <td>5</td>\n",
              "    </tr>\n",
              "    <tr>\n",
              "      <th>447115</th>\n",
              "      <td>We love Privy! Easy to use, clear call to acti...</td>\n",
              "      <td>5</td>\n",
              "    </tr>\n",
              "  </tbody>\n",
              "</table>\n",
              "<p>447116 rows × 2 columns</p>\n",
              "</div>"
            ],
            "text/plain": [
              "                                                 Sentence  rating\n",
              "0       Great and super fast customer service! Highly ...       5\n",
              "1       Still setting up my store, and after initially...       5\n",
              "2       This is an excellent search app, which they ha...       5\n",
              "3       A+, great great great customer service! thanks...       5\n",
              "4       I'm begginig to use this app, the search engin...       5\n",
              "...                                                   ...     ...\n",
              "447111  The app is cool and simple to use which I like...       2\n",
              "447112  Such a great thing, and great customer service...       5\n",
              "447113  Just found Privy!  I can't wait to start recei...       5\n",
              "447114  Wow, overnight got tons of new email signups a...       5\n",
              "447115  We love Privy! Easy to use, clear call to acti...       5\n",
              "\n",
              "[447116 rows x 2 columns]"
            ]
          },
          "metadata": {},
          "execution_count": 9
        }
      ]
    },
    {
      "cell_type": "code",
      "source": [
        "#Đánh giá nhãn: \n",
        "#Có 447116 đánh giá.\n",
        "#Các bài đánh giá có xếp hạng sao 4,5 được gắn nhãn là đánh giá tích cực \n",
        "#1,2 được dán nhãn là đánh giá tiêu cực. \n",
        "#Xóa các bài đánh giá có xếp hạng 3 sao vì chúng được coi là trung lập."
      ],
      "metadata": {
        "id": "nzX0fRQtfHOv"
      },
      "execution_count": null,
      "outputs": []
    },
    {
      "cell_type": "code",
      "source": [
        "df['rating']=df['rating'].astype(int) #chuyển rating  thành  int\n",
        "df=df[df['rating']!=3]\n",
        "df['label']=np.where(df['rating']>=4,1,0) #1-Positve,0-Negative"
      ],
      "metadata": {
        "colab": {
          "base_uri": "https://localhost:8080/"
        },
        "id": "dsdbpKZXfTaF",
        "outputId": "f00fd423-f910-4a7e-86c8-1da74f0b48ac"
      },
      "execution_count": 11,
      "outputs": [
        {
          "output_type": "stream",
          "name": "stderr",
          "text": [
            "/usr/local/lib/python3.7/dist-packages/ipykernel_launcher.py:3: SettingWithCopyWarning: \n",
            "A value is trying to be set on a copy of a slice from a DataFrame.\n",
            "Try using .loc[row_indexer,col_indexer] = value instead\n",
            "\n",
            "See the caveats in the documentation: https://pandas.pydata.org/pandas-docs/stable/user_guide/indexing.html#returning-a-view-versus-a-copy\n",
            "  This is separate from the ipykernel package so we can avoid doing imports until\n"
          ]
        }
      ]
    },
    {
      "cell_type": "code",
      "source": [
        "#Số lượng bài đánh giá theo rating"
      ],
      "metadata": {
        "id": "gTiqhJLPflCt"
      },
      "execution_count": null,
      "outputs": []
    },
    {
      "cell_type": "code",
      "source": [
        "df['rating'].value_counts()"
      ],
      "metadata": {
        "colab": {
          "base_uri": "https://localhost:8080/"
        },
        "id": "wT8M9SDDfpcr",
        "outputId": "5dcad4cc-6602-49a5-90ac-8a0cd23a41a0"
      },
      "execution_count": 12,
      "outputs": [
        {
          "output_type": "execute_result",
          "data": {
            "text/plain": [
              "5    379281\n",
              "4     36653\n",
              "1     16893\n",
              "2      4748\n",
              "Name: rating, dtype: int64"
            ]
          },
          "metadata": {},
          "execution_count": 12
        }
      ]
    },
    {
      "cell_type": "markdown",
      "source": [
        "**Pre-Processing**"
      ],
      "metadata": {
        "id": "JqeYnOyQgaNc"
      }
    },
    {
      "cell_type": "markdown",
      "source": [
        "Bước đầu tiên là chuyển đổi tất cả các đánh giá từ chữ in hoa thành chữ thường."
      ],
      "metadata": {
        "id": "0fepYlmkggl-"
      }
    },
    {
      "cell_type": "code",
      "source": [
        "df = df.sample(frac=1).reset_index(drop=True) #shuffle\n",
        "data=df[df['label']==0][:50000]\n",
        "data=data.append(df[df['label']==1][:50000])\n",
        "data = data.reset_index(drop=True)\n",
        "display(data['label'].value_counts())\n",
        "data"
      ],
      "metadata": {
        "colab": {
          "base_uri": "https://localhost:8080/",
          "height": 476
        },
        "id": "YZTJnouUkx-d",
        "outputId": "53ff3b89-325e-4c41-9554-27dcbf497039"
      },
      "execution_count": 15,
      "outputs": [
        {
          "output_type": "display_data",
          "data": {
            "text/plain": [
              "1    50000\n",
              "0    21641\n",
              "Name: label, dtype: int64"
            ]
          },
          "metadata": {}
        },
        {
          "output_type": "execute_result",
          "data": {
            "text/html": [
              "<div>\n",
              "<style scoped>\n",
              "    .dataframe tbody tr th:only-of-type {\n",
              "        vertical-align: middle;\n",
              "    }\n",
              "\n",
              "    .dataframe tbody tr th {\n",
              "        vertical-align: top;\n",
              "    }\n",
              "\n",
              "    .dataframe thead th {\n",
              "        text-align: right;\n",
              "    }\n",
              "</style>\n",
              "<table border=\"1\" class=\"dataframe\">\n",
              "  <thead>\n",
              "    <tr style=\"text-align: right;\">\n",
              "      <th></th>\n",
              "      <th>Sentence</th>\n",
              "      <th>rating</th>\n",
              "      <th>label</th>\n",
              "    </tr>\n",
              "  </thead>\n",
              "  <tbody>\n",
              "    <tr>\n",
              "      <th>0</th>\n",
              "      <td>If I wanted to write code I wouldn't have look...</td>\n",
              "      <td>1</td>\n",
              "      <td>0</td>\n",
              "    </tr>\n",
              "    <tr>\n",
              "      <th>1</th>\n",
              "      <td>This app is so bad. Always a problem and when ...</td>\n",
              "      <td>1</td>\n",
              "      <td>0</td>\n",
              "    </tr>\n",
              "    <tr>\n",
              "      <th>2</th>\n",
              "      <td>10MAY16 App started off great with a few extra...</td>\n",
              "      <td>1</td>\n",
              "      <td>0</td>\n",
              "    </tr>\n",
              "    <tr>\n",
              "      <th>3</th>\n",
              "      <td>BE AWARE - SCAM, SCAM Company. \\nSCAM, SCAM, S...</td>\n",
              "      <td>1</td>\n",
              "      <td>0</td>\n",
              "    </tr>\n",
              "    <tr>\n",
              "      <th>4</th>\n",
              "      <td>I installed the app twice on the same day and ...</td>\n",
              "      <td>1</td>\n",
              "      <td>0</td>\n",
              "    </tr>\n",
              "    <tr>\n",
              "      <th>...</th>\n",
              "      <td>...</td>\n",
              "      <td>...</td>\n",
              "      <td>...</td>\n",
              "    </tr>\n",
              "    <tr>\n",
              "      <th>71636</th>\n",
              "      <td>Love this app! It looks really nice on our pro...</td>\n",
              "      <td>5</td>\n",
              "      <td>1</td>\n",
              "    </tr>\n",
              "    <tr>\n",
              "      <th>71637</th>\n",
              "      <td>Great app and even better support :) It wasn't...</td>\n",
              "      <td>5</td>\n",
              "      <td>1</td>\n",
              "    </tr>\n",
              "    <tr>\n",
              "      <th>71638</th>\n",
              "      <td>I'm just writing this review cos i need to ext...</td>\n",
              "      <td>5</td>\n",
              "      <td>1</td>\n",
              "    </tr>\n",
              "    <tr>\n",
              "      <th>71639</th>\n",
              "      <td>Absolutely amazing. Excellent support, very re...</td>\n",
              "      <td>5</td>\n",
              "      <td>1</td>\n",
              "    </tr>\n",
              "    <tr>\n",
              "      <th>71640</th>\n",
              "      <td>I was always worried of my designs to be easil...</td>\n",
              "      <td>5</td>\n",
              "      <td>1</td>\n",
              "    </tr>\n",
              "  </tbody>\n",
              "</table>\n",
              "<p>71641 rows × 3 columns</p>\n",
              "</div>"
            ],
            "text/plain": [
              "                                                Sentence  rating  label\n",
              "0      If I wanted to write code I wouldn't have look...       1      0\n",
              "1      This app is so bad. Always a problem and when ...       1      0\n",
              "2      10MAY16 App started off great with a few extra...       1      0\n",
              "3      BE AWARE - SCAM, SCAM Company. \\nSCAM, SCAM, S...       1      0\n",
              "4      I installed the app twice on the same day and ...       1      0\n",
              "...                                                  ...     ...    ...\n",
              "71636  Love this app! It looks really nice on our pro...       5      1\n",
              "71637  Great app and even better support :) It wasn't...       5      1\n",
              "71638  I'm just writing this review cos i need to ext...       5      1\n",
              "71639  Absolutely amazing. Excellent support, very re...       5      1\n",
              "71640  I was always worried of my designs to be easil...       5      1\n",
              "\n",
              "[71641 rows x 3 columns]"
            ]
          },
          "metadata": {},
          "execution_count": 15
        }
      ]
    },
    {
      "cell_type": "code",
      "source": [
        "data['pre_process'] = data['Sentence'].apply(lambda x: \" \".join(x.lower() for x in str(x).split()))"
      ],
      "metadata": {
        "id": "n27fnWO8gcsi"
      },
      "execution_count": 17,
      "outputs": []
    },
    {
      "cell_type": "markdown",
      "source": [
        "Xóa các thẻ HTML và URL khỏi các bài đánh giá."
      ],
      "metadata": {
        "id": "AgtbNKh4g3ol"
      }
    },
    {
      "cell_type": "code",
      "source": [
        "from bs4 import BeautifulSoup\n",
        "data['pre_process']=data['pre_process'].apply(lambda x: BeautifulSoup(x).get_text())\n",
        "import re\n",
        "data['pre_process']=data['pre_process'].apply(lambda x: re.sub(r\"http\\S+\", \"\", x))"
      ],
      "metadata": {
        "colab": {
          "base_uri": "https://localhost:8080/"
        },
        "id": "XcrQFjygg6IG",
        "outputId": "ae9922c1-084d-4d87-801e-8d64a7d7f983"
      },
      "execution_count": 18,
      "outputs": [
        {
          "output_type": "stream",
          "name": "stderr",
          "text": [
            "/usr/local/lib/python3.7/dist-packages/bs4/__init__.py:336: UserWarning: \"https://theinternetcollective.com/\" looks like a URL. Beautiful Soup is not an HTTP client. You should probably use an HTTP client like requests to get the document behind the URL, and feed that document to Beautiful Soup.\n",
            "  ' that document to Beautiful Soup.' % decoded_markup\n",
            "/usr/local/lib/python3.7/dist-packages/bs4/__init__.py:336: UserWarning: \"https://www.aliexpress.com/item/beauty-glazed-18-color-nude-shining-eyeshadow-palette-makeup-glitter-pigment-smoky-eye-shadow-pallete-waterproof/32953735368.html\" looks like a URL. Beautiful Soup is not an HTTP client. You should probably use an HTTP client like requests to get the document behind the URL, and feed that document to Beautiful Soup.\n",
            "  ' that document to Beautiful Soup.' % decoded_markup\n",
            "/usr/local/lib/python3.7/dist-packages/bs4/__init__.py:336: UserWarning: \"https://maxiwholesale.net/\" looks like a URL. Beautiful Soup is not an HTTP client. You should probably use an HTTP client like requests to get the document behind the URL, and feed that document to Beautiful Soup.\n",
            "  ' that document to Beautiful Soup.' % decoded_markup\n",
            "/usr/local/lib/python3.7/dist-packages/bs4/__init__.py:273: UserWarning: \"b'///////////////////////////////////////////////////////////////////////////////////////////////////////////////////////'\" looks like a filename, not markup. You should probably open this file and pass the filehandle into Beautiful Soup.\n",
            "  ' Beautiful Soup.' % markup)\n",
            "/usr/local/lib/python3.7/dist-packages/bs4/__init__.py:336: UserWarning: \"https://apps.shopify.com/auto-currency-switcher#modal-show=reviewlistingmodal.lordfdkkkkkkkkkkkkkkkkkkkkkkkkkkkkk\" looks like a URL. Beautiful Soup is not an HTTP client. You should probably use an HTTP client like requests to get the document behind the URL, and feed that document to Beautiful Soup.\n",
            "  ' that document to Beautiful Soup.' % decoded_markup\n"
          ]
        }
      ]
    },
    {
      "cell_type": "markdown",
      "source": [
        "Chuyển đổi các từ viết tắt thành chữ bt"
      ],
      "metadata": {
        "id": "yNpKV5_lhMMj"
      }
    },
    {
      "cell_type": "code",
      "source": [
        "def contractions(s):\n",
        " s = re.sub(r\"won't\", \"will not\",s)\n",
        " s = re.sub(r\"would't\", \"would not\",s)\n",
        " s = re.sub(r\"could't\", \"could not\",s)\n",
        " s = re.sub(r\"\\'d\", \" would\",s)\n",
        " s = re.sub(r\"can\\'t\", \"can not\",s)\n",
        " s = re.sub(r\"n\\'t\", \" not\", s)\n",
        " s= re.sub(r\"\\'re\", \" are\", s)\n",
        " s = re.sub(r\"\\'s\", \" is\", s)\n",
        " s = re.sub(r\"\\'ll\", \" will\", s)\n",
        " s = re.sub(r\"\\'t\", \" not\", s)\n",
        " s = re.sub(r\"\\'ve\", \" have\", s)\n",
        " s = re.sub(r\"\\'m\", \" am\", s)\n",
        " return s\n",
        "data['pre_process']=data['pre_process'].apply(lambda x:contractions(x))"
      ],
      "metadata": {
        "id": "_RBrLVA0hK2_"
      },
      "execution_count": 19,
      "outputs": []
    },
    {
      "cell_type": "markdown",
      "source": [
        "Xóa các ký tự đặc biệt"
      ],
      "metadata": {
        "id": "f8Zmr6zMikwd"
      }
    },
    {
      "cell_type": "code",
      "source": [
        "import nltk\n",
        "nltk.download('punkt')\n",
        "data['pre_process']=data['pre_process'].apply(lambda x: \" \".join([re.sub('[^A-Za-z]+','', x) for x in nltk.word_tokenize(x)]))"
      ],
      "metadata": {
        "colab": {
          "base_uri": "https://localhost:8080/"
        },
        "id": "Ld_eq2Qxim3t",
        "outputId": "3da5c1eb-379d-418e-9254-f1b74ea55a3e"
      },
      "execution_count": 21,
      "outputs": [
        {
          "output_type": "stream",
          "name": "stdout",
          "text": [
            "[nltk_data] Downloading package punkt to /root/nltk_data...\n",
            "[nltk_data]   Unzipping tokenizers/punkt.zip.\n"
          ]
        }
      ]
    },
    {
      "cell_type": "markdown",
      "source": [
        "Xóa các khoảng trắng thừa giữa các từ"
      ],
      "metadata": {
        "id": "fFCve7HFi3Fz"
      }
    },
    {
      "cell_type": "code",
      "source": [
        "data['pre_process']=data['pre_process'].apply(lambda x: re.sub(' +', ' ', x))"
      ],
      "metadata": {
        "id": "Zhe71NDWi4Bk"
      },
      "execution_count": 22,
      "outputs": []
    },
    {
      "cell_type": "markdown",
      "source": [
        "Loại bỏ các từ dừng bằng cách sử dụng gói NLTK\n"
      ],
      "metadata": {
        "id": "YmpxeA71jHsz"
      }
    },
    {
      "cell_type": "code",
      "source": [
        "import nltk\n",
        "nltk.download('stopwords')\n",
        "from nltk.corpus import stopwords\n",
        "stop = stopwords.words('english')\n",
        "data['pre_process']=data['pre_process'].apply(lambda x: \" \".join([x for x in x.split() if x not in stop]))"
      ],
      "metadata": {
        "colab": {
          "base_uri": "https://localhost:8080/"
        },
        "id": "jW3FqHKFjHKa",
        "outputId": "06cbdbb2-858c-4434-a3bd-ea89d541b6d6"
      },
      "execution_count": 24,
      "outputs": [
        {
          "output_type": "stream",
          "name": "stdout",
          "text": [
            "[nltk_data] Downloading package stopwords to /root/nltk_data...\n",
            "[nltk_data]   Unzipping corpora/stopwords.zip.\n"
          ]
        }
      ]
    },
    {
      "cell_type": "code",
      "source": [
        "#Lemmatization bằng wordnet lemmatizer"
      ],
      "metadata": {
        "id": "01GjyzPNjZrE"
      },
      "execution_count": null,
      "outputs": []
    },
    {
      "cell_type": "code",
      "source": [
        "import nltk\n",
        "nltk.download('wordnet')\n",
        "from nltk.stem import WordNetLemmatizer\n",
        "lemmatizer = WordNetLemmatizer()\n",
        "data['pre_process']=data['pre_process'].apply(lambda x: \" \".join([lemmatizer.lemmatize(w) for w in nltk.word_tokenize(x)]))"
      ],
      "metadata": {
        "colab": {
          "base_uri": "https://localhost:8080/"
        },
        "id": "yGfgtZ34jfqK",
        "outputId": "4902dbed-d2de-4e79-ed3f-d77533c3eaad"
      },
      "execution_count": 26,
      "outputs": [
        {
          "output_type": "stream",
          "name": "stdout",
          "text": [
            "[nltk_data] Downloading package wordnet to /root/nltk_data...\n",
            "[nltk_data]   Unzipping corpora/wordnet.zip.\n"
          ]
        }
      ]
    },
    {
      "cell_type": "code",
      "source": [
        "data"
      ],
      "metadata": {
        "colab": {
          "base_uri": "https://localhost:8080/",
          "height": 424
        },
        "id": "fSX0-hD8jpOL",
        "outputId": "1425afa8-dc4d-496b-80a6-df2f4829536b"
      },
      "execution_count": 27,
      "outputs": [
        {
          "output_type": "execute_result",
          "data": {
            "text/html": [
              "<div>\n",
              "<style scoped>\n",
              "    .dataframe tbody tr th:only-of-type {\n",
              "        vertical-align: middle;\n",
              "    }\n",
              "\n",
              "    .dataframe tbody tr th {\n",
              "        vertical-align: top;\n",
              "    }\n",
              "\n",
              "    .dataframe thead th {\n",
              "        text-align: right;\n",
              "    }\n",
              "</style>\n",
              "<table border=\"1\" class=\"dataframe\">\n",
              "  <thead>\n",
              "    <tr style=\"text-align: right;\">\n",
              "      <th></th>\n",
              "      <th>Sentence</th>\n",
              "      <th>rating</th>\n",
              "      <th>label</th>\n",
              "      <th>pre_process</th>\n",
              "    </tr>\n",
              "  </thead>\n",
              "  <tbody>\n",
              "    <tr>\n",
              "      <th>0</th>\n",
              "      <td>If I wanted to write code I wouldn't have look...</td>\n",
              "      <td>1</td>\n",
              "      <td>0</td>\n",
              "      <td>wanted write code would looked app store app r...</td>\n",
              "    </tr>\n",
              "    <tr>\n",
              "      <th>1</th>\n",
              "      <td>This app is so bad. Always a problem and when ...</td>\n",
              "      <td>1</td>\n",
              "      <td>0</td>\n",
              "      <td>app bad always problem contacting ebay link la...</td>\n",
              "    </tr>\n",
              "    <tr>\n",
              "      <th>2</th>\n",
              "      <td>10MAY16 App started off great with a few extra...</td>\n",
              "      <td>1</td>\n",
              "      <td>0</td>\n",
              "      <td>may app started great extra sale month sale co...</td>\n",
              "    </tr>\n",
              "    <tr>\n",
              "      <th>3</th>\n",
              "      <td>BE AWARE - SCAM, SCAM Company. \\nSCAM, SCAM, S...</td>\n",
              "      <td>1</td>\n",
              "      <td>0</td>\n",
              "      <td>aware scam scam company scam scam scam ordered...</td>\n",
              "    </tr>\n",
              "    <tr>\n",
              "      <th>4</th>\n",
              "      <td>I installed the app twice on the same day and ...</td>\n",
              "      <td>1</td>\n",
              "      <td>0</td>\n",
              "      <td>installed app twice day uninstalled day charge...</td>\n",
              "    </tr>\n",
              "    <tr>\n",
              "      <th>...</th>\n",
              "      <td>...</td>\n",
              "      <td>...</td>\n",
              "      <td>...</td>\n",
              "      <td>...</td>\n",
              "    </tr>\n",
              "    <tr>\n",
              "      <th>71636</th>\n",
              "      <td>Love this app! It looks really nice on our pro...</td>\n",
              "      <td>5</td>\n",
              "      <td>1</td>\n",
              "      <td>love app look really nice product page support...</td>\n",
              "    </tr>\n",
              "    <tr>\n",
              "      <th>71637</th>\n",
              "      <td>Great app and even better support :) It wasn't...</td>\n",
              "      <td>5</td>\n",
              "      <td>1</td>\n",
              "      <td>great app even better support working exactly ...</td>\n",
              "    </tr>\n",
              "    <tr>\n",
              "      <th>71638</th>\n",
              "      <td>I'm just writing this review cos i need to ext...</td>\n",
              "      <td>5</td>\n",
              "      <td>1</td>\n",
              "      <td>writing review co need extend trial though mus...</td>\n",
              "    </tr>\n",
              "    <tr>\n",
              "      <th>71639</th>\n",
              "      <td>Absolutely amazing. Excellent support, very re...</td>\n",
              "      <td>5</td>\n",
              "      <td>1</td>\n",
              "      <td>absolutely amazing excellent support responsiv...</td>\n",
              "    </tr>\n",
              "    <tr>\n",
              "      <th>71640</th>\n",
              "      <td>I was always worried of my designs to be easil...</td>\n",
              "      <td>5</td>\n",
              "      <td>1</td>\n",
              "      <td>always worried design easily copied discovered...</td>\n",
              "    </tr>\n",
              "  </tbody>\n",
              "</table>\n",
              "<p>71641 rows × 4 columns</p>\n",
              "</div>"
            ],
            "text/plain": [
              "                                                Sentence  ...                                        pre_process\n",
              "0      If I wanted to write code I wouldn't have look...  ...  wanted write code would looked app store app r...\n",
              "1      This app is so bad. Always a problem and when ...  ...  app bad always problem contacting ebay link la...\n",
              "2      10MAY16 App started off great with a few extra...  ...  may app started great extra sale month sale co...\n",
              "3      BE AWARE - SCAM, SCAM Company. \\nSCAM, SCAM, S...  ...  aware scam scam company scam scam scam ordered...\n",
              "4      I installed the app twice on the same day and ...  ...  installed app twice day uninstalled day charge...\n",
              "...                                                  ...  ...                                                ...\n",
              "71636  Love this app! It looks really nice on our pro...  ...  love app look really nice product page support...\n",
              "71637  Great app and even better support :) It wasn't...  ...  great app even better support working exactly ...\n",
              "71638  I'm just writing this review cos i need to ext...  ...  writing review co need extend trial though mus...\n",
              "71639  Absolutely amazing. Excellent support, very re...  ...  absolutely amazing excellent support responsiv...\n",
              "71640  I was always worried of my designs to be easil...  ...  always worried design easily copied discovered...\n",
              "\n",
              "[71641 rows x 4 columns]"
            ]
          },
          "metadata": {},
          "execution_count": 27
        }
      ]
    },
    {
      "cell_type": "markdown",
      "source": [
        "Chia Dữ liệu thành Training  và Testing"
      ],
      "metadata": {
        "id": "6CPFTKdPloJs"
      }
    },
    {
      "cell_type": "code",
      "source": [
        "from sklearn.model_selection import train_test_split\n",
        "X_train,X_test,Y_train, Y_test = train_test_split(data['pre_process'], data['label'], test_size=0.25, random_state=30)\n",
        "print(\"Train: \",X_train.shape,Y_train.shape,\"Test: \",(X_test.shape,Y_test.shape))"
      ],
      "metadata": {
        "colab": {
          "base_uri": "https://localhost:8080/"
        },
        "id": "YfVQE59UluYc",
        "outputId": "eecd1d57-45b4-4fde-db0a-f7a9c82deabd"
      },
      "execution_count": 28,
      "outputs": [
        {
          "output_type": "stream",
          "name": "stdout",
          "text": [
            "Train:  (53730,) (53730,) Test:  ((17911,), (17911,))\n"
          ]
        }
      ]
    },
    {
      "cell_type": "markdown",
      "source": [
        "**TF*IDF Vectorizer**"
      ],
      "metadata": {
        "id": "yd1ITBqul7vi"
      }
    },
    {
      "cell_type": "code",
      "source": [
        "print(\"TFIDF Vectorizer……\")\n",
        "from sklearn.feature_extraction.text import TfidfVectorizer\n",
        "vectorizer= TfidfVectorizer()\n",
        "tf_x_train = vectorizer.fit_transform(X_train)\n",
        "tf_x_test = vectorizer.transform(X_test)"
      ],
      "metadata": {
        "colab": {
          "base_uri": "https://localhost:8080/"
        },
        "id": "-IDw_V-kl_tl",
        "outputId": "d31ffd24-e958-48dc-ed21-19cc4cbb2104"
      },
      "execution_count": 29,
      "outputs": [
        {
          "output_type": "stream",
          "name": "stdout",
          "text": [
            "TFIDF Vectorizer……\n"
          ]
        }
      ]
    },
    {
      "cell_type": "markdown",
      "source": [
        "**Sử dụng SVM**"
      ],
      "metadata": {
        "id": "__slG5RGmFpk"
      }
    },
    {
      "cell_type": "markdown",
      "source": [
        "Triển khai SVM  sklearn để phân loại"
      ],
      "metadata": {
        "id": "zX7L30_1mLxM"
      }
    },
    {
      "cell_type": "code",
      "source": [
        "from sklearn.svm import LinearSVC\n",
        "clf = LinearSVC(random_state=0)"
      ],
      "metadata": {
        "id": "2eXev76DmIkb"
      },
      "execution_count": 30,
      "outputs": []
    },
    {
      "cell_type": "markdown",
      "source": [
        "Kết hợp dữ liệu được Training vào modal"
      ],
      "metadata": {
        "id": "FvVoabscmUEK"
      }
    },
    {
      "cell_type": "code",
      "source": [
        "clf.fit(tf_x_train,Y_train)"
      ],
      "metadata": {
        "colab": {
          "base_uri": "https://localhost:8080/"
        },
        "id": "yhyouXF0maVC",
        "outputId": "0e6473c1-fcb8-45cb-f097-4dd6f902d3e6"
      },
      "execution_count": 31,
      "outputs": [
        {
          "output_type": "execute_result",
          "data": {
            "text/plain": [
              "LinearSVC(random_state=0)"
            ]
          },
          "metadata": {},
          "execution_count": 31
        }
      ]
    },
    {
      "cell_type": "code",
      "source": [
        "#Dự đoán"
      ],
      "metadata": {
        "id": "RZqQ_Dnvmexr"
      },
      "execution_count": null,
      "outputs": []
    },
    {
      "cell_type": "code",
      "source": [
        "y_test_pred=clf.predict(tf_x_test)"
      ],
      "metadata": {
        "id": "KMQD116kmgaU"
      },
      "execution_count": 32,
      "outputs": []
    },
    {
      "cell_type": "code",
      "source": [
        "#Phân tích kết quả"
      ],
      "metadata": {
        "id": "t9u0ov0Fmmd9"
      },
      "execution_count": null,
      "outputs": []
    },
    {
      "cell_type": "code",
      "source": [
        "from sklearn.metrics import classification_report\n",
        "report=classification_report(Y_test, y_test_pred,output_dict=True)"
      ],
      "metadata": {
        "id": "NLc3nmMAmqfz"
      },
      "execution_count": 33,
      "outputs": []
    },
    {
      "cell_type": "code",
      "source": [
        "report"
      ],
      "metadata": {
        "colab": {
          "base_uri": "https://localhost:8080/"
        },
        "id": "xbBw4ma8muPj",
        "outputId": "fdc87bd9-20fc-4dba-93c8-82d3fa4ce715"
      },
      "execution_count": 34,
      "outputs": [
        {
          "output_type": "execute_result",
          "data": {
            "text/plain": [
              "{'0': {'f1-score': 0.9020081814801041,\n",
              "  'precision': 0.9175335729146964,\n",
              "  'recall': 0.8869994514536478,\n",
              "  'support': 5469},\n",
              " '1': {'f1-score': 0.9579510093353547,\n",
              "  'precision': 0.9510456273764258,\n",
              "  'recall': 0.9649574023468895,\n",
              "  'support': 12442},\n",
              " 'accuracy': 0.9411534811009994,\n",
              " 'macro avg': {'f1-score': 0.9299795954077295,\n",
              "  'precision': 0.9342896001455612,\n",
              "  'recall': 0.9259784269002687,\n",
              "  'support': 17911},\n",
              " 'weighted avg': {'f1-score': 0.9408692536801502,\n",
              "  'precision': 0.9408129532738521,\n",
              "  'recall': 0.9411534811009994,\n",
              "  'support': 17911}}"
            ]
          },
          "metadata": {},
          "execution_count": 34
        }
      ]
    },
    {
      "cell_type": "markdown",
      "source": [
        "**SVM: 95,1%**"
      ],
      "metadata": {
        "id": "yhCz6xaFm4ab"
      }
    },
    {
      "cell_type": "code",
      "source": [
        "#Hồi quy tuyến tính"
      ],
      "metadata": {
        "id": "Y5cRlODFnaWx"
      },
      "execution_count": null,
      "outputs": []
    },
    {
      "cell_type": "markdown",
      "source": [
        "**Hồi quy tuyến tính dùng sklearn**"
      ],
      "metadata": {
        "id": "RZUP1rWHnhML"
      }
    },
    {
      "cell_type": "code",
      "source": [
        "from sklearn.linear_model import LogisticRegression\n",
        "clf = LogisticRegression(max_iter=1000,solver='saga')"
      ],
      "metadata": {
        "id": "cczTAUzXnnCj"
      },
      "execution_count": 36,
      "outputs": []
    },
    {
      "cell_type": "code",
      "source": [
        "#Fit the Training data to the model\n",
        "clf.fit(tf_x_train,Y_train)"
      ],
      "metadata": {
        "colab": {
          "base_uri": "https://localhost:8080/"
        },
        "id": "wdJ0v_cVnuVq",
        "outputId": "88d479ca-af31-409d-b39d-adf9e220916b"
      },
      "execution_count": 37,
      "outputs": [
        {
          "output_type": "execute_result",
          "data": {
            "text/plain": [
              "LogisticRegression(max_iter=1000, solver='saga')"
            ]
          },
          "metadata": {},
          "execution_count": 37
        }
      ]
    },
    {
      "cell_type": "code",
      "source": [
        "#Dự đoán\n",
        "y_test_pred=clf.predict(tf_x_test)"
      ],
      "metadata": {
        "id": "tPhwuDOon1A6"
      },
      "execution_count": 38,
      "outputs": []
    },
    {
      "cell_type": "code",
      "source": [
        "#Phân tích\n",
        "from sklearn.metrics import classification_report\n",
        "report=classification_report(Y_test, y_test_pred,output_dict=True)"
      ],
      "metadata": {
        "id": "cYMUMRvin66k"
      },
      "execution_count": 39,
      "outputs": []
    },
    {
      "cell_type": "code",
      "source": [
        "report"
      ],
      "metadata": {
        "colab": {
          "base_uri": "https://localhost:8080/"
        },
        "id": "cNRP4u8moMm4",
        "outputId": "2031a39d-3f76-459b-8f50-c4e5b25b5749"
      },
      "execution_count": 40,
      "outputs": [
        {
          "output_type": "execute_result",
          "data": {
            "text/plain": [
              "{'0': {'f1-score': 0.8995847489618725,\n",
              "  'precision': 0.9295884532865223,\n",
              "  'recall': 0.871457304808923,\n",
              "  'support': 5469},\n",
              " '1': {'f1-score': 0.9578212954887814,\n",
              "  'precision': 0.9450093867334167,\n",
              "  'recall': 0.9709853721266677,\n",
              "  'support': 12442},\n",
              " 'accuracy': 0.940595164982413,\n",
              " 'macro avg': {'f1-score': 0.928703022225327,\n",
              "  'precision': 0.9372989200099695,\n",
              "  'recall': 0.9212213384677954,\n",
              "  'support': 17911},\n",
              " 'weighted avg': {'f1-score': 0.9400391686976661,\n",
              "  'precision': 0.9403007113372319,\n",
              "  'recall': 0.940595164982413,\n",
              "  'support': 17911}}"
            ]
          },
          "metadata": {},
          "execution_count": 40
        }
      ]
    },
    {
      "cell_type": "markdown",
      "source": [
        "**LR 94.5%**"
      ],
      "metadata": {
        "id": "ZhPBksqdoWQL"
      }
    }
  ]
}